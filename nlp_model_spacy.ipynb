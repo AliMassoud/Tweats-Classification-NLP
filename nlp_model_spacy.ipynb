{
 "cells": [
  {
   "cell_type": "code",
   "execution_count": 1,
   "id": "284d90dc",
   "metadata": {},
   "outputs": [],
   "source": [
    "import numpy as np\n",
    "import matplotlib.pyplot as plt\n",
    "import pandas as pd\n",
    "import sklearn \n",
    "import re"
   ]
  },
  {
   "cell_type": "code",
   "execution_count": 2,
   "id": "9e8fdf74",
   "metadata": {},
   "outputs": [],
   "source": [
    "dataset = pd.read_csv('train.csv')"
   ]
  },
  {
   "cell_type": "code",
   "execution_count": 3,
   "id": "1708e635",
   "metadata": {},
   "outputs": [
    {
     "data": {
      "text/html": [
       "<div>\n",
       "<style scoped>\n",
       "    .dataframe tbody tr th:only-of-type {\n",
       "        vertical-align: middle;\n",
       "    }\n",
       "\n",
       "    .dataframe tbody tr th {\n",
       "        vertical-align: top;\n",
       "    }\n",
       "\n",
       "    .dataframe thead th {\n",
       "        text-align: right;\n",
       "    }\n",
       "</style>\n",
       "<table border=\"1\" class=\"dataframe\">\n",
       "  <thead>\n",
       "    <tr style=\"text-align: right;\">\n",
       "      <th></th>\n",
       "      <th>id</th>\n",
       "      <th>keyword</th>\n",
       "      <th>location</th>\n",
       "      <th>text</th>\n",
       "      <th>target</th>\n",
       "    </tr>\n",
       "  </thead>\n",
       "  <tbody>\n",
       "    <tr>\n",
       "      <th>0</th>\n",
       "      <td>1</td>\n",
       "      <td>NaN</td>\n",
       "      <td>NaN</td>\n",
       "      <td>Our Deeds are the Reason of this #earthquake M...</td>\n",
       "      <td>1</td>\n",
       "    </tr>\n",
       "    <tr>\n",
       "      <th>1</th>\n",
       "      <td>4</td>\n",
       "      <td>NaN</td>\n",
       "      <td>NaN</td>\n",
       "      <td>Forest fire near La Ronge Sask. Canada</td>\n",
       "      <td>1</td>\n",
       "    </tr>\n",
       "    <tr>\n",
       "      <th>2</th>\n",
       "      <td>5</td>\n",
       "      <td>NaN</td>\n",
       "      <td>NaN</td>\n",
       "      <td>All residents asked to 'shelter in place' are ...</td>\n",
       "      <td>1</td>\n",
       "    </tr>\n",
       "    <tr>\n",
       "      <th>3</th>\n",
       "      <td>6</td>\n",
       "      <td>NaN</td>\n",
       "      <td>NaN</td>\n",
       "      <td>13,000 people receive #wildfires evacuation or...</td>\n",
       "      <td>1</td>\n",
       "    </tr>\n",
       "    <tr>\n",
       "      <th>4</th>\n",
       "      <td>7</td>\n",
       "      <td>NaN</td>\n",
       "      <td>NaN</td>\n",
       "      <td>Just got sent this photo from Ruby #Alaska as ...</td>\n",
       "      <td>1</td>\n",
       "    </tr>\n",
       "  </tbody>\n",
       "</table>\n",
       "</div>"
      ],
      "text/plain": [
       "   id keyword location                                               text  \\\n",
       "0   1     NaN      NaN  Our Deeds are the Reason of this #earthquake M...   \n",
       "1   4     NaN      NaN             Forest fire near La Ronge Sask. Canada   \n",
       "2   5     NaN      NaN  All residents asked to 'shelter in place' are ...   \n",
       "3   6     NaN      NaN  13,000 people receive #wildfires evacuation or...   \n",
       "4   7     NaN      NaN  Just got sent this photo from Ruby #Alaska as ...   \n",
       "\n",
       "   target  \n",
       "0       1  \n",
       "1       1  \n",
       "2       1  \n",
       "3       1  \n",
       "4       1  "
      ]
     },
     "execution_count": 3,
     "metadata": {},
     "output_type": "execute_result"
    }
   ],
   "source": [
    "dataset.head()"
   ]
  },
  {
   "cell_type": "code",
   "execution_count": 4,
   "id": "663aaba0",
   "metadata": {},
   "outputs": [
    {
     "data": {
      "text/plain": [
       "'Accident on I-24 W #NashvilleTraffic. Traffic moving 8m slower than usual. https://t.co/0GHk693EgJ'"
      ]
     },
     "execution_count": 4,
     "metadata": {},
     "output_type": "execute_result"
    }
   ],
   "source": [
    "dataset['text'][68]"
   ]
  },
  {
   "cell_type": "markdown",
   "id": "0318073e",
   "metadata": {},
   "source": [
    "#### Checking a missing values"
   ]
  },
  {
   "cell_type": "code",
   "execution_count": 5,
   "id": "59ccd794",
   "metadata": {},
   "outputs": [
    {
     "name": "stdout",
     "output_type": "stream",
     "text": [
      "<class 'pandas.core.frame.DataFrame'>\n",
      "RangeIndex: 7613 entries, 0 to 7612\n",
      "Data columns (total 5 columns):\n",
      " #   Column    Non-Null Count  Dtype \n",
      "---  ------    --------------  ----- \n",
      " 0   id        7613 non-null   int64 \n",
      " 1   keyword   7552 non-null   object\n",
      " 2   location  5080 non-null   object\n",
      " 3   text      7613 non-null   object\n",
      " 4   target    7613 non-null   int64 \n",
      "dtypes: int64(2), object(3)\n",
      "memory usage: 297.5+ KB\n"
     ]
    }
   ],
   "source": [
    "dataset.info()"
   ]
  },
  {
   "cell_type": "markdown",
   "id": "be9babf8",
   "metadata": {},
   "source": [
    "#### Droping duplicates"
   ]
  },
  {
   "cell_type": "code",
   "execution_count": 6,
   "id": "9c94e4d3",
   "metadata": {},
   "outputs": [
    {
     "data": {
      "text/plain": [
       "0"
      ]
     },
     "execution_count": 6,
     "metadata": {},
     "output_type": "execute_result"
    }
   ],
   "source": [
    "np.sum(dataset.duplicated())"
   ]
  },
  {
   "cell_type": "code",
   "execution_count": 7,
   "id": "b157daba",
   "metadata": {},
   "outputs": [],
   "source": [
    "dataset = dataset.drop_duplicates()"
   ]
  },
  {
   "cell_type": "code",
   "execution_count": 8,
   "id": "cf5107d1",
   "metadata": {},
   "outputs": [
    {
     "data": {
      "text/plain": [
       "0"
      ]
     },
     "execution_count": 8,
     "metadata": {},
     "output_type": "execute_result"
    }
   ],
   "source": [
    "np.sum(dataset.duplicated())"
   ]
  },
  {
   "cell_type": "markdown",
   "id": "6a8bcf2f",
   "metadata": {},
   "source": [
    "#### Droping the id"
   ]
  },
  {
   "cell_type": "code",
   "execution_count": 9,
   "id": "76510ce4",
   "metadata": {},
   "outputs": [],
   "source": [
    "dataset = dataset.drop(['id'], axis=1)"
   ]
  },
  {
   "cell_type": "code",
   "execution_count": 10,
   "id": "c791c9d0",
   "metadata": {},
   "outputs": [
    {
     "data": {
      "text/html": [
       "<div>\n",
       "<style scoped>\n",
       "    .dataframe tbody tr th:only-of-type {\n",
       "        vertical-align: middle;\n",
       "    }\n",
       "\n",
       "    .dataframe tbody tr th {\n",
       "        vertical-align: top;\n",
       "    }\n",
       "\n",
       "    .dataframe thead th {\n",
       "        text-align: right;\n",
       "    }\n",
       "</style>\n",
       "<table border=\"1\" class=\"dataframe\">\n",
       "  <thead>\n",
       "    <tr style=\"text-align: right;\">\n",
       "      <th></th>\n",
       "      <th>keyword</th>\n",
       "      <th>location</th>\n",
       "      <th>text</th>\n",
       "      <th>target</th>\n",
       "    </tr>\n",
       "  </thead>\n",
       "  <tbody>\n",
       "    <tr>\n",
       "      <th>0</th>\n",
       "      <td>NaN</td>\n",
       "      <td>NaN</td>\n",
       "      <td>Our Deeds are the Reason of this #earthquake M...</td>\n",
       "      <td>1</td>\n",
       "    </tr>\n",
       "    <tr>\n",
       "      <th>1</th>\n",
       "      <td>NaN</td>\n",
       "      <td>NaN</td>\n",
       "      <td>Forest fire near La Ronge Sask. Canada</td>\n",
       "      <td>1</td>\n",
       "    </tr>\n",
       "    <tr>\n",
       "      <th>2</th>\n",
       "      <td>NaN</td>\n",
       "      <td>NaN</td>\n",
       "      <td>All residents asked to 'shelter in place' are ...</td>\n",
       "      <td>1</td>\n",
       "    </tr>\n",
       "    <tr>\n",
       "      <th>3</th>\n",
       "      <td>NaN</td>\n",
       "      <td>NaN</td>\n",
       "      <td>13,000 people receive #wildfires evacuation or...</td>\n",
       "      <td>1</td>\n",
       "    </tr>\n",
       "    <tr>\n",
       "      <th>4</th>\n",
       "      <td>NaN</td>\n",
       "      <td>NaN</td>\n",
       "      <td>Just got sent this photo from Ruby #Alaska as ...</td>\n",
       "      <td>1</td>\n",
       "    </tr>\n",
       "  </tbody>\n",
       "</table>\n",
       "</div>"
      ],
      "text/plain": [
       "  keyword location                                               text  target\n",
       "0     NaN      NaN  Our Deeds are the Reason of this #earthquake M...       1\n",
       "1     NaN      NaN             Forest fire near La Ronge Sask. Canada       1\n",
       "2     NaN      NaN  All residents asked to 'shelter in place' are ...       1\n",
       "3     NaN      NaN  13,000 people receive #wildfires evacuation or...       1\n",
       "4     NaN      NaN  Just got sent this photo from Ruby #Alaska as ...       1"
      ]
     },
     "execution_count": 10,
     "metadata": {},
     "output_type": "execute_result"
    }
   ],
   "source": [
    "dataset.head()"
   ]
  },
  {
   "cell_type": "markdown",
   "id": "0fed2a34",
   "metadata": {},
   "source": [
    "#### Function for text normalization"
   ]
  },
  {
   "cell_type": "code",
   "execution_count": 11,
   "id": "4209715d",
   "metadata": {},
   "outputs": [
    {
     "data": {
      "text/plain": [
       "'Accident on I-24 W #NashvilleTraffic. Traffic moving 8m slower than usual. https://t.co/0GHk693EgJ'"
      ]
     },
     "execution_count": 11,
     "metadata": {},
     "output_type": "execute_result"
    }
   ],
   "source": [
    "dataset['text'][68]"
   ]
  },
  {
   "cell_type": "code",
   "execution_count": 12,
   "id": "017d4115",
   "metadata": {},
   "outputs": [
    {
     "data": {
      "text/plain": [
       "'@bbcmtd Wholesale Markets ablaze http://t.co/lHYXEOHY6C'"
      ]
     },
     "execution_count": 12,
     "metadata": {},
     "output_type": "execute_result"
    }
   ],
   "source": [
    "dataset['text'][31]"
   ]
  },
  {
   "cell_type": "code",
   "execution_count": 13,
   "id": "7c33fc03",
   "metadata": {},
   "outputs": [
    {
     "data": {
      "text/plain": [
       "\"I'm afraid that the tornado is coming to our area...\""
      ]
     },
     "execution_count": 13,
     "metadata": {},
     "output_type": "execute_result"
    }
   ],
   "source": [
    "dataset['text'][9]"
   ]
  },
  {
   "cell_type": "code",
   "execution_count": 14,
   "id": "d30f5b8e",
   "metadata": {},
   "outputs": [],
   "source": [
    "dataset['text'] = dataset['text'].apply(lambda x:x.lower())"
   ]
  },
  {
   "cell_type": "code",
   "execution_count": 15,
   "id": "06923f04",
   "metadata": {},
   "outputs": [],
   "source": [
    "import spacy\n",
    "nlp = spacy.load('en_core_web_lg')"
   ]
  },
  {
   "cell_type": "code",
   "execution_count": 16,
   "id": "0bd7475a",
   "metadata": {},
   "outputs": [],
   "source": [
    "import re\n",
    "def text_normalize(text):\n",
    "    \n",
    "    text = str(text)\n",
    "    text = re.sub(r'http\\S+', '', text) #remove urls\n",
    "    text = re.sub('#[^\\s]+','',text) #remove hashtags\n",
    "    text = re.sub('@[^\\s]+','',text) #remove tags\n",
    "    text = re.sub(r'[0-9]+','', text) #remove numbers\n",
    "    text = re.sub('\\s*\\\\b([a-z]|[a-z]{2})\\\\b', '', text) #remove single letters\n",
    "    text = re.sub(r'[^\\w\\s]', '', text)\n",
    "    doc = nlp(text)\n",
    "    res=[]\n",
    "    for token in doc:\n",
    "        if(token.is_stop or token.is_space): #remove stop_words\n",
    "            pass\n",
    "        else:\n",
    "            res.append(token.lemma_)#lemmatization\n",
    "    return \" \".join(res)"
   ]
  },
  {
   "cell_type": "code",
   "execution_count": 17,
   "id": "92081e18",
   "metadata": {},
   "outputs": [],
   "source": [
    "dataset[\"text\"] = dataset[\"text\"].apply(text_normalize)"
   ]
  },
  {
   "cell_type": "code",
   "execution_count": 18,
   "id": "4483b39d",
   "metadata": {},
   "outputs": [
    {
     "data": {
      "text/plain": [
       "'accident traffic move slow usual'"
      ]
     },
     "execution_count": 18,
     "metadata": {},
     "output_type": "execute_result"
    }
   ],
   "source": [
    "dataset['text'][68]"
   ]
  },
  {
   "cell_type": "code",
   "execution_count": 19,
   "id": "e31db7c7",
   "metadata": {},
   "outputs": [
    {
     "data": {
      "text/plain": [
       "'afraid tornado come area'"
      ]
     },
     "execution_count": 19,
     "metadata": {},
     "output_type": "execute_result"
    }
   ],
   "source": [
    "dataset['text'][9]"
   ]
  },
  {
   "cell_type": "code",
   "execution_count": 20,
   "id": "6f4bc882",
   "metadata": {},
   "outputs": [],
   "source": [
    "X = dataset.drop('target', axis =1)\n",
    "y = dataset['target'].values.reshape(-1,1)"
   ]
  },
  {
   "cell_type": "code",
   "execution_count": 21,
   "id": "b850fa4d",
   "metadata": {},
   "outputs": [
    {
     "name": "stderr",
     "output_type": "stream",
     "text": [
      "/Users/diana/opt/anaconda3/lib/python3.8/site-packages/sklearn/utils/deprecation.py:87: FutureWarning: Function get_feature_names is deprecated; get_feature_names is deprecated in 1.0 and will be removed in 1.2. Please use get_feature_names_out instead.\n",
      "  warnings.warn(msg, category=FutureWarning)\n"
     ]
    },
    {
     "data": {
      "text/html": [
       "<div>\n",
       "<style scoped>\n",
       "    .dataframe tbody tr th:only-of-type {\n",
       "        vertical-align: middle;\n",
       "    }\n",
       "\n",
       "    .dataframe tbody tr th {\n",
       "        vertical-align: top;\n",
       "    }\n",
       "\n",
       "    .dataframe thead th {\n",
       "        text-align: right;\n",
       "    }\n",
       "</style>\n",
       "<table border=\"1\" class=\"dataframe\">\n",
       "  <thead>\n",
       "    <tr style=\"text-align: right;\">\n",
       "      <th></th>\n",
       "      <th>aaaa</th>\n",
       "      <th>aaaa lemme</th>\n",
       "      <th>aaaaaaallllûªm</th>\n",
       "      <th>aaaaaaallllûªm season</th>\n",
       "      <th>aaaaaand</th>\n",
       "      <th>aaaaaand thunder</th>\n",
       "      <th>aaarrrgghhh</th>\n",
       "      <th>aal</th>\n",
       "      <th>aan</th>\n",
       "      <th>aan den</th>\n",
       "      <th>...</th>\n",
       "      <th>ûó wallybaiter</th>\n",
       "      <th>ûó want</th>\n",
       "      <th>ûóher</th>\n",
       "      <th>ûóher upper</th>\n",
       "      <th>ûókody</th>\n",
       "      <th>ûókody vine</th>\n",
       "      <th>ûû</th>\n",
       "      <th>ûû lose</th>\n",
       "      <th>ûûªs</th>\n",
       "      <th>ûûªs freakiest</th>\n",
       "    </tr>\n",
       "  </thead>\n",
       "  <tbody>\n",
       "    <tr>\n",
       "      <th>0</th>\n",
       "      <td>0.0</td>\n",
       "      <td>0.0</td>\n",
       "      <td>0.0</td>\n",
       "      <td>0.0</td>\n",
       "      <td>0.0</td>\n",
       "      <td>0.0</td>\n",
       "      <td>0.0</td>\n",
       "      <td>0.0</td>\n",
       "      <td>0.0</td>\n",
       "      <td>0.0</td>\n",
       "      <td>...</td>\n",
       "      <td>0.0</td>\n",
       "      <td>0.0</td>\n",
       "      <td>0.0</td>\n",
       "      <td>0.0</td>\n",
       "      <td>0.0</td>\n",
       "      <td>0.0</td>\n",
       "      <td>0.0</td>\n",
       "      <td>0.0</td>\n",
       "      <td>0.0</td>\n",
       "      <td>0.0</td>\n",
       "    </tr>\n",
       "    <tr>\n",
       "      <th>1</th>\n",
       "      <td>0.0</td>\n",
       "      <td>0.0</td>\n",
       "      <td>0.0</td>\n",
       "      <td>0.0</td>\n",
       "      <td>0.0</td>\n",
       "      <td>0.0</td>\n",
       "      <td>0.0</td>\n",
       "      <td>0.0</td>\n",
       "      <td>0.0</td>\n",
       "      <td>0.0</td>\n",
       "      <td>...</td>\n",
       "      <td>0.0</td>\n",
       "      <td>0.0</td>\n",
       "      <td>0.0</td>\n",
       "      <td>0.0</td>\n",
       "      <td>0.0</td>\n",
       "      <td>0.0</td>\n",
       "      <td>0.0</td>\n",
       "      <td>0.0</td>\n",
       "      <td>0.0</td>\n",
       "      <td>0.0</td>\n",
       "    </tr>\n",
       "    <tr>\n",
       "      <th>2</th>\n",
       "      <td>0.0</td>\n",
       "      <td>0.0</td>\n",
       "      <td>0.0</td>\n",
       "      <td>0.0</td>\n",
       "      <td>0.0</td>\n",
       "      <td>0.0</td>\n",
       "      <td>0.0</td>\n",
       "      <td>0.0</td>\n",
       "      <td>0.0</td>\n",
       "      <td>0.0</td>\n",
       "      <td>...</td>\n",
       "      <td>0.0</td>\n",
       "      <td>0.0</td>\n",
       "      <td>0.0</td>\n",
       "      <td>0.0</td>\n",
       "      <td>0.0</td>\n",
       "      <td>0.0</td>\n",
       "      <td>0.0</td>\n",
       "      <td>0.0</td>\n",
       "      <td>0.0</td>\n",
       "      <td>0.0</td>\n",
       "    </tr>\n",
       "    <tr>\n",
       "      <th>3</th>\n",
       "      <td>0.0</td>\n",
       "      <td>0.0</td>\n",
       "      <td>0.0</td>\n",
       "      <td>0.0</td>\n",
       "      <td>0.0</td>\n",
       "      <td>0.0</td>\n",
       "      <td>0.0</td>\n",
       "      <td>0.0</td>\n",
       "      <td>0.0</td>\n",
       "      <td>0.0</td>\n",
       "      <td>...</td>\n",
       "      <td>0.0</td>\n",
       "      <td>0.0</td>\n",
       "      <td>0.0</td>\n",
       "      <td>0.0</td>\n",
       "      <td>0.0</td>\n",
       "      <td>0.0</td>\n",
       "      <td>0.0</td>\n",
       "      <td>0.0</td>\n",
       "      <td>0.0</td>\n",
       "      <td>0.0</td>\n",
       "    </tr>\n",
       "    <tr>\n",
       "      <th>4</th>\n",
       "      <td>0.0</td>\n",
       "      <td>0.0</td>\n",
       "      <td>0.0</td>\n",
       "      <td>0.0</td>\n",
       "      <td>0.0</td>\n",
       "      <td>0.0</td>\n",
       "      <td>0.0</td>\n",
       "      <td>0.0</td>\n",
       "      <td>0.0</td>\n",
       "      <td>0.0</td>\n",
       "      <td>...</td>\n",
       "      <td>0.0</td>\n",
       "      <td>0.0</td>\n",
       "      <td>0.0</td>\n",
       "      <td>0.0</td>\n",
       "      <td>0.0</td>\n",
       "      <td>0.0</td>\n",
       "      <td>0.0</td>\n",
       "      <td>0.0</td>\n",
       "      <td>0.0</td>\n",
       "      <td>0.0</td>\n",
       "    </tr>\n",
       "  </tbody>\n",
       "</table>\n",
       "<p>5 rows × 46724 columns</p>\n",
       "</div>"
      ],
      "text/plain": [
       "   aaaa  aaaa lemme  aaaaaaallllûªm  aaaaaaallllûªm season  aaaaaand  \\\n",
       "0   0.0         0.0             0.0                    0.0       0.0   \n",
       "1   0.0         0.0             0.0                    0.0       0.0   \n",
       "2   0.0         0.0             0.0                    0.0       0.0   \n",
       "3   0.0         0.0             0.0                    0.0       0.0   \n",
       "4   0.0         0.0             0.0                    0.0       0.0   \n",
       "\n",
       "   aaaaaand thunder  aaarrrgghhh  aal  aan  aan den  ...  ûó wallybaiter  \\\n",
       "0               0.0          0.0  0.0  0.0      0.0  ...             0.0   \n",
       "1               0.0          0.0  0.0  0.0      0.0  ...             0.0   \n",
       "2               0.0          0.0  0.0  0.0      0.0  ...             0.0   \n",
       "3               0.0          0.0  0.0  0.0      0.0  ...             0.0   \n",
       "4               0.0          0.0  0.0  0.0      0.0  ...             0.0   \n",
       "\n",
       "   ûó want  ûóher  ûóher upper  ûókody  ûókody vine   ûû  ûû lose  ûûªs  \\\n",
       "0      0.0    0.0          0.0     0.0          0.0  0.0      0.0   0.0   \n",
       "1      0.0    0.0          0.0     0.0          0.0  0.0      0.0   0.0   \n",
       "2      0.0    0.0          0.0     0.0          0.0  0.0      0.0   0.0   \n",
       "3      0.0    0.0          0.0     0.0          0.0  0.0      0.0   0.0   \n",
       "4      0.0    0.0          0.0     0.0          0.0  0.0      0.0   0.0   \n",
       "\n",
       "   ûûªs freakiest  \n",
       "0             0.0  \n",
       "1             0.0  \n",
       "2             0.0  \n",
       "3             0.0  \n",
       "4             0.0  \n",
       "\n",
       "[5 rows x 46724 columns]"
      ]
     },
     "execution_count": 21,
     "metadata": {},
     "output_type": "execute_result"
    }
   ],
   "source": [
    "from sklearn.feature_extraction.text import TfidfVectorizer \n",
    "vectorize = TfidfVectorizer(ngram_range=(1,2))\n",
    "tf_idf_vectorizer=pd.DataFrame(vectorize.fit_transform(X['text']).toarray(),columns=vectorize.get_feature_names(),index=None)\n",
    "tf_idf_vectorizer.head()"
   ]
  },
  {
   "cell_type": "code",
   "execution_count": 22,
   "id": "dc8e6013",
   "metadata": {},
   "outputs": [],
   "source": [
    "nominal_features = X[['keyword', 'location']]"
   ]
  },
  {
   "cell_type": "code",
   "execution_count": 23,
   "id": "b473ebeb",
   "metadata": {},
   "outputs": [
    {
     "name": "stderr",
     "output_type": "stream",
     "text": [
      "/Users/diana/opt/anaconda3/lib/python3.8/site-packages/sklearn/utils/deprecation.py:87: FutureWarning: Function get_feature_names is deprecated; get_feature_names is deprecated in 1.0 and will be removed in 1.2. Please use get_feature_names_out instead.\n",
      "  warnings.warn(msg, category=FutureWarning)\n"
     ]
    },
    {
     "data": {
      "text/html": [
       "<div>\n",
       "<style scoped>\n",
       "    .dataframe tbody tr th:only-of-type {\n",
       "        vertical-align: middle;\n",
       "    }\n",
       "\n",
       "    .dataframe tbody tr th {\n",
       "        vertical-align: top;\n",
       "    }\n",
       "\n",
       "    .dataframe thead th {\n",
       "        text-align: right;\n",
       "    }\n",
       "</style>\n",
       "<table border=\"1\" class=\"dataframe\">\n",
       "  <thead>\n",
       "    <tr style=\"text-align: right;\">\n",
       "      <th></th>\n",
       "      <th>x0_ablaze</th>\n",
       "      <th>x0_accident</th>\n",
       "      <th>x0_aftershock</th>\n",
       "      <th>x0_airplane%20accident</th>\n",
       "      <th>x0_ambulance</th>\n",
       "      <th>x0_annihilated</th>\n",
       "      <th>x0_annihilation</th>\n",
       "      <th>x0_apocalypse</th>\n",
       "      <th>x0_armageddon</th>\n",
       "      <th>x0_army</th>\n",
       "      <th>...</th>\n",
       "      <th>x1_ÌÏT: 43.631838,-79.55807</th>\n",
       "      <th>x1_ÌÏT: 6.4682,3.18287</th>\n",
       "      <th>x1_ÌÏT: 6.488400524109015,3.352798039832285</th>\n",
       "      <th>x1_ÌøåÀå_T: 40.736324,-73.990062</th>\n",
       "      <th>x1_å_: ?? ÌÑ ? : ?</th>\n",
       "      <th>x1_å_å_Los Mina Cityã¢</th>\n",
       "      <th>x1_å¡å¡Midwest Û¢Û¢</th>\n",
       "      <th>x1_åÊ(?Û¢`?Û¢å«)??</th>\n",
       "      <th>x1_åø\\_(?)_/åø</th>\n",
       "      <th>x1_nan</th>\n",
       "    </tr>\n",
       "  </thead>\n",
       "  <tbody>\n",
       "    <tr>\n",
       "      <th>0</th>\n",
       "      <td>0.0</td>\n",
       "      <td>0.0</td>\n",
       "      <td>0.0</td>\n",
       "      <td>0.0</td>\n",
       "      <td>0.0</td>\n",
       "      <td>0.0</td>\n",
       "      <td>0.0</td>\n",
       "      <td>0.0</td>\n",
       "      <td>0.0</td>\n",
       "      <td>0.0</td>\n",
       "      <td>...</td>\n",
       "      <td>0.0</td>\n",
       "      <td>0.0</td>\n",
       "      <td>0.0</td>\n",
       "      <td>0.0</td>\n",
       "      <td>0.0</td>\n",
       "      <td>0.0</td>\n",
       "      <td>0.0</td>\n",
       "      <td>0.0</td>\n",
       "      <td>0.0</td>\n",
       "      <td>1.0</td>\n",
       "    </tr>\n",
       "    <tr>\n",
       "      <th>1</th>\n",
       "      <td>0.0</td>\n",
       "      <td>0.0</td>\n",
       "      <td>0.0</td>\n",
       "      <td>0.0</td>\n",
       "      <td>0.0</td>\n",
       "      <td>0.0</td>\n",
       "      <td>0.0</td>\n",
       "      <td>0.0</td>\n",
       "      <td>0.0</td>\n",
       "      <td>0.0</td>\n",
       "      <td>...</td>\n",
       "      <td>0.0</td>\n",
       "      <td>0.0</td>\n",
       "      <td>0.0</td>\n",
       "      <td>0.0</td>\n",
       "      <td>0.0</td>\n",
       "      <td>0.0</td>\n",
       "      <td>0.0</td>\n",
       "      <td>0.0</td>\n",
       "      <td>0.0</td>\n",
       "      <td>1.0</td>\n",
       "    </tr>\n",
       "    <tr>\n",
       "      <th>2</th>\n",
       "      <td>0.0</td>\n",
       "      <td>0.0</td>\n",
       "      <td>0.0</td>\n",
       "      <td>0.0</td>\n",
       "      <td>0.0</td>\n",
       "      <td>0.0</td>\n",
       "      <td>0.0</td>\n",
       "      <td>0.0</td>\n",
       "      <td>0.0</td>\n",
       "      <td>0.0</td>\n",
       "      <td>...</td>\n",
       "      <td>0.0</td>\n",
       "      <td>0.0</td>\n",
       "      <td>0.0</td>\n",
       "      <td>0.0</td>\n",
       "      <td>0.0</td>\n",
       "      <td>0.0</td>\n",
       "      <td>0.0</td>\n",
       "      <td>0.0</td>\n",
       "      <td>0.0</td>\n",
       "      <td>1.0</td>\n",
       "    </tr>\n",
       "    <tr>\n",
       "      <th>3</th>\n",
       "      <td>0.0</td>\n",
       "      <td>0.0</td>\n",
       "      <td>0.0</td>\n",
       "      <td>0.0</td>\n",
       "      <td>0.0</td>\n",
       "      <td>0.0</td>\n",
       "      <td>0.0</td>\n",
       "      <td>0.0</td>\n",
       "      <td>0.0</td>\n",
       "      <td>0.0</td>\n",
       "      <td>...</td>\n",
       "      <td>0.0</td>\n",
       "      <td>0.0</td>\n",
       "      <td>0.0</td>\n",
       "      <td>0.0</td>\n",
       "      <td>0.0</td>\n",
       "      <td>0.0</td>\n",
       "      <td>0.0</td>\n",
       "      <td>0.0</td>\n",
       "      <td>0.0</td>\n",
       "      <td>1.0</td>\n",
       "    </tr>\n",
       "    <tr>\n",
       "      <th>4</th>\n",
       "      <td>0.0</td>\n",
       "      <td>0.0</td>\n",
       "      <td>0.0</td>\n",
       "      <td>0.0</td>\n",
       "      <td>0.0</td>\n",
       "      <td>0.0</td>\n",
       "      <td>0.0</td>\n",
       "      <td>0.0</td>\n",
       "      <td>0.0</td>\n",
       "      <td>0.0</td>\n",
       "      <td>...</td>\n",
       "      <td>0.0</td>\n",
       "      <td>0.0</td>\n",
       "      <td>0.0</td>\n",
       "      <td>0.0</td>\n",
       "      <td>0.0</td>\n",
       "      <td>0.0</td>\n",
       "      <td>0.0</td>\n",
       "      <td>0.0</td>\n",
       "      <td>0.0</td>\n",
       "      <td>1.0</td>\n",
       "    </tr>\n",
       "    <tr>\n",
       "      <th>...</th>\n",
       "      <td>...</td>\n",
       "      <td>...</td>\n",
       "      <td>...</td>\n",
       "      <td>...</td>\n",
       "      <td>...</td>\n",
       "      <td>...</td>\n",
       "      <td>...</td>\n",
       "      <td>...</td>\n",
       "      <td>...</td>\n",
       "      <td>...</td>\n",
       "      <td>...</td>\n",
       "      <td>...</td>\n",
       "      <td>...</td>\n",
       "      <td>...</td>\n",
       "      <td>...</td>\n",
       "      <td>...</td>\n",
       "      <td>...</td>\n",
       "      <td>...</td>\n",
       "      <td>...</td>\n",
       "      <td>...</td>\n",
       "      <td>...</td>\n",
       "    </tr>\n",
       "    <tr>\n",
       "      <th>7608</th>\n",
       "      <td>0.0</td>\n",
       "      <td>0.0</td>\n",
       "      <td>0.0</td>\n",
       "      <td>0.0</td>\n",
       "      <td>0.0</td>\n",
       "      <td>0.0</td>\n",
       "      <td>0.0</td>\n",
       "      <td>0.0</td>\n",
       "      <td>0.0</td>\n",
       "      <td>0.0</td>\n",
       "      <td>...</td>\n",
       "      <td>0.0</td>\n",
       "      <td>0.0</td>\n",
       "      <td>0.0</td>\n",
       "      <td>0.0</td>\n",
       "      <td>0.0</td>\n",
       "      <td>0.0</td>\n",
       "      <td>0.0</td>\n",
       "      <td>0.0</td>\n",
       "      <td>0.0</td>\n",
       "      <td>1.0</td>\n",
       "    </tr>\n",
       "    <tr>\n",
       "      <th>7609</th>\n",
       "      <td>0.0</td>\n",
       "      <td>0.0</td>\n",
       "      <td>0.0</td>\n",
       "      <td>0.0</td>\n",
       "      <td>0.0</td>\n",
       "      <td>0.0</td>\n",
       "      <td>0.0</td>\n",
       "      <td>0.0</td>\n",
       "      <td>0.0</td>\n",
       "      <td>0.0</td>\n",
       "      <td>...</td>\n",
       "      <td>0.0</td>\n",
       "      <td>0.0</td>\n",
       "      <td>0.0</td>\n",
       "      <td>0.0</td>\n",
       "      <td>0.0</td>\n",
       "      <td>0.0</td>\n",
       "      <td>0.0</td>\n",
       "      <td>0.0</td>\n",
       "      <td>0.0</td>\n",
       "      <td>1.0</td>\n",
       "    </tr>\n",
       "    <tr>\n",
       "      <th>7610</th>\n",
       "      <td>0.0</td>\n",
       "      <td>0.0</td>\n",
       "      <td>0.0</td>\n",
       "      <td>0.0</td>\n",
       "      <td>0.0</td>\n",
       "      <td>0.0</td>\n",
       "      <td>0.0</td>\n",
       "      <td>0.0</td>\n",
       "      <td>0.0</td>\n",
       "      <td>0.0</td>\n",
       "      <td>...</td>\n",
       "      <td>0.0</td>\n",
       "      <td>0.0</td>\n",
       "      <td>0.0</td>\n",
       "      <td>0.0</td>\n",
       "      <td>0.0</td>\n",
       "      <td>0.0</td>\n",
       "      <td>0.0</td>\n",
       "      <td>0.0</td>\n",
       "      <td>0.0</td>\n",
       "      <td>1.0</td>\n",
       "    </tr>\n",
       "    <tr>\n",
       "      <th>7611</th>\n",
       "      <td>0.0</td>\n",
       "      <td>0.0</td>\n",
       "      <td>0.0</td>\n",
       "      <td>0.0</td>\n",
       "      <td>0.0</td>\n",
       "      <td>0.0</td>\n",
       "      <td>0.0</td>\n",
       "      <td>0.0</td>\n",
       "      <td>0.0</td>\n",
       "      <td>0.0</td>\n",
       "      <td>...</td>\n",
       "      <td>0.0</td>\n",
       "      <td>0.0</td>\n",
       "      <td>0.0</td>\n",
       "      <td>0.0</td>\n",
       "      <td>0.0</td>\n",
       "      <td>0.0</td>\n",
       "      <td>0.0</td>\n",
       "      <td>0.0</td>\n",
       "      <td>0.0</td>\n",
       "      <td>1.0</td>\n",
       "    </tr>\n",
       "    <tr>\n",
       "      <th>7612</th>\n",
       "      <td>0.0</td>\n",
       "      <td>0.0</td>\n",
       "      <td>0.0</td>\n",
       "      <td>0.0</td>\n",
       "      <td>0.0</td>\n",
       "      <td>0.0</td>\n",
       "      <td>0.0</td>\n",
       "      <td>0.0</td>\n",
       "      <td>0.0</td>\n",
       "      <td>0.0</td>\n",
       "      <td>...</td>\n",
       "      <td>0.0</td>\n",
       "      <td>0.0</td>\n",
       "      <td>0.0</td>\n",
       "      <td>0.0</td>\n",
       "      <td>0.0</td>\n",
       "      <td>0.0</td>\n",
       "      <td>0.0</td>\n",
       "      <td>0.0</td>\n",
       "      <td>0.0</td>\n",
       "      <td>1.0</td>\n",
       "    </tr>\n",
       "  </tbody>\n",
       "</table>\n",
       "<p>7613 rows × 3564 columns</p>\n",
       "</div>"
      ],
      "text/plain": [
       "      x0_ablaze  x0_accident  x0_aftershock  x0_airplane%20accident  \\\n",
       "0           0.0          0.0            0.0                     0.0   \n",
       "1           0.0          0.0            0.0                     0.0   \n",
       "2           0.0          0.0            0.0                     0.0   \n",
       "3           0.0          0.0            0.0                     0.0   \n",
       "4           0.0          0.0            0.0                     0.0   \n",
       "...         ...          ...            ...                     ...   \n",
       "7608        0.0          0.0            0.0                     0.0   \n",
       "7609        0.0          0.0            0.0                     0.0   \n",
       "7610        0.0          0.0            0.0                     0.0   \n",
       "7611        0.0          0.0            0.0                     0.0   \n",
       "7612        0.0          0.0            0.0                     0.0   \n",
       "\n",
       "      x0_ambulance  x0_annihilated  x0_annihilation  x0_apocalypse  \\\n",
       "0              0.0             0.0              0.0            0.0   \n",
       "1              0.0             0.0              0.0            0.0   \n",
       "2              0.0             0.0              0.0            0.0   \n",
       "3              0.0             0.0              0.0            0.0   \n",
       "4              0.0             0.0              0.0            0.0   \n",
       "...            ...             ...              ...            ...   \n",
       "7608           0.0             0.0              0.0            0.0   \n",
       "7609           0.0             0.0              0.0            0.0   \n",
       "7610           0.0             0.0              0.0            0.0   \n",
       "7611           0.0             0.0              0.0            0.0   \n",
       "7612           0.0             0.0              0.0            0.0   \n",
       "\n",
       "      x0_armageddon  x0_army  ...  x1_ÌÏT: 43.631838,-79.55807  \\\n",
       "0               0.0      0.0  ...                          0.0   \n",
       "1               0.0      0.0  ...                          0.0   \n",
       "2               0.0      0.0  ...                          0.0   \n",
       "3               0.0      0.0  ...                          0.0   \n",
       "4               0.0      0.0  ...                          0.0   \n",
       "...             ...      ...  ...                          ...   \n",
       "7608            0.0      0.0  ...                          0.0   \n",
       "7609            0.0      0.0  ...                          0.0   \n",
       "7610            0.0      0.0  ...                          0.0   \n",
       "7611            0.0      0.0  ...                          0.0   \n",
       "7612            0.0      0.0  ...                          0.0   \n",
       "\n",
       "      x1_ÌÏT: 6.4682,3.18287  x1_ÌÏT: 6.488400524109015,3.352798039832285  \\\n",
       "0                        0.0                                          0.0   \n",
       "1                        0.0                                          0.0   \n",
       "2                        0.0                                          0.0   \n",
       "3                        0.0                                          0.0   \n",
       "4                        0.0                                          0.0   \n",
       "...                      ...                                          ...   \n",
       "7608                     0.0                                          0.0   \n",
       "7609                     0.0                                          0.0   \n",
       "7610                     0.0                                          0.0   \n",
       "7611                     0.0                                          0.0   \n",
       "7612                     0.0                                          0.0   \n",
       "\n",
       "      x1_ÌøåÀå_T: 40.736324,-73.990062  x1_å_: ?? ÌÑ ? : ?  \\\n",
       "0                                  0.0                 0.0   \n",
       "1                                  0.0                 0.0   \n",
       "2                                  0.0                 0.0   \n",
       "3                                  0.0                 0.0   \n",
       "4                                  0.0                 0.0   \n",
       "...                                ...                 ...   \n",
       "7608                               0.0                 0.0   \n",
       "7609                               0.0                 0.0   \n",
       "7610                               0.0                 0.0   \n",
       "7611                               0.0                 0.0   \n",
       "7612                               0.0                 0.0   \n",
       "\n",
       "      x1_å_å_Los Mina Cityã¢  x1_å¡å¡Midwest Û¢Û¢  x1_åÊ(?Û¢`?Û¢å«)??  \\\n",
       "0                         0.0                    0.0                   0.0   \n",
       "1                         0.0                    0.0                   0.0   \n",
       "2                         0.0                    0.0                   0.0   \n",
       "3                         0.0                    0.0                   0.0   \n",
       "4                         0.0                    0.0                   0.0   \n",
       "...                       ...                    ...                   ...   \n",
       "7608                      0.0                    0.0                   0.0   \n",
       "7609                      0.0                    0.0                   0.0   \n",
       "7610                      0.0                    0.0                   0.0   \n",
       "7611                      0.0                    0.0                   0.0   \n",
       "7612                      0.0                    0.0                   0.0   \n",
       "\n",
       "      x1_åø\\_(?)_/åø  x1_nan  \n",
       "0                0.0     1.0  \n",
       "1                0.0     1.0  \n",
       "2                0.0     1.0  \n",
       "3                0.0     1.0  \n",
       "4                0.0     1.0  \n",
       "...              ...     ...  \n",
       "7608             0.0     1.0  \n",
       "7609             0.0     1.0  \n",
       "7610             0.0     1.0  \n",
       "7611             0.0     1.0  \n",
       "7612             0.0     1.0  \n",
       "\n",
       "[7613 rows x 3564 columns]"
      ]
     },
     "execution_count": 23,
     "metadata": {},
     "output_type": "execute_result"
    }
   ],
   "source": [
    "from sklearn.preprocessing import OneHotEncoder\n",
    "one_hot_encoder = OneHotEncoder(sparse=False)\n",
    "array = one_hot_encoder.fit_transform(nominal_features)\n",
    "feature_names = one_hot_encoder.get_feature_names()\n",
    "encoded_nominal = pd.DataFrame(array, columns = feature_names)\n",
    "encoded_nominal = pd.concat([nominal_features.reset_index(drop=True), encoded_nominal.reset_index(drop=True)], axis = 1)\n",
    "encoded_nominal.drop(nominal_features, axis = 1, inplace = True)\n",
    "encoded_nominal"
   ]
  },
  {
   "cell_type": "code",
   "execution_count": 24,
   "id": "e13bfcb7",
   "metadata": {},
   "outputs": [],
   "source": [
    "new_X = pd.concat([encoded_nominal, tf_idf_vectorizer],axis=1)"
   ]
  },
  {
   "cell_type": "code",
   "execution_count": 25,
   "id": "a7001dfc",
   "metadata": {},
   "outputs": [],
   "source": [
    "from sklearn.model_selection import train_test_split\n",
    "new_X_train, new_X_test, y_train, y_test = train_test_split(new_X, y, test_size = 0.25, random_state = 0)"
   ]
  },
  {
   "cell_type": "code",
   "execution_count": 26,
   "id": "f5a05424",
   "metadata": {},
   "outputs": [
    {
     "name": "stderr",
     "output_type": "stream",
     "text": [
      "/Users/diana/opt/anaconda3/lib/python3.8/site-packages/sklearn/utils/validation.py:993: DataConversionWarning: A column-vector y was passed when a 1d array was expected. Please change the shape of y to (n_samples, ), for example using ravel().\n",
      "  y = column_or_1d(y, warn=True)\n"
     ]
    },
    {
     "data": {
      "text/plain": [
       "LogisticRegression()"
      ]
     },
     "execution_count": 26,
     "metadata": {},
     "output_type": "execute_result"
    }
   ],
   "source": [
    "from sklearn.linear_model import LogisticRegression\n",
    "\n",
    "classifier = LogisticRegression()\n",
    "classifier.fit(new_X_train, y_train)"
   ]
  },
  {
   "cell_type": "code",
   "execution_count": 27,
   "id": "37cc7451",
   "metadata": {},
   "outputs": [],
   "source": [
    "y_pred = classifier.predict(new_X_test)"
   ]
  },
  {
   "cell_type": "code",
   "execution_count": 28,
   "id": "4f610d51",
   "metadata": {},
   "outputs": [
    {
     "data": {
      "text/plain": [
       "array([0, 0, 0, ..., 1, 1, 0])"
      ]
     },
     "execution_count": 28,
     "metadata": {},
     "output_type": "execute_result"
    }
   ],
   "source": [
    "y_pred"
   ]
  }
 ],
 "metadata": {
  "kernelspec": {
   "display_name": "Python 3 (ipykernel)",
   "language": "python",
   "name": "python3"
  },
  "language_info": {
   "codemirror_mode": {
    "name": "ipython",
    "version": 3
   },
   "file_extension": ".py",
   "mimetype": "text/x-python",
   "name": "python",
   "nbconvert_exporter": "python",
   "pygments_lexer": "ipython3",
   "version": "3.9.12"
  }
 },
 "nbformat": 4,
 "nbformat_minor": 5
}
